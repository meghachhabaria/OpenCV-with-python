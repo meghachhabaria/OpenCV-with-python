{
 "cells": [
  {
   "cell_type": "code",
   "execution_count": 1,
   "id": "313a7cd1",
   "metadata": {},
   "outputs": [],
   "source": [
    "# Import opencv\n",
    "import cv2"
   ]
  },
  {
   "cell_type": "code",
   "execution_count": 2,
   "id": "de78439c",
   "metadata": {},
   "outputs": [],
   "source": [
    "# import the krish photo \n",
    "i1 = cv2.imread(\"pic1.jpg\")"
   ]
  },
  {
   "cell_type": "code",
   "execution_count": 4,
   "id": "f29cae4d",
   "metadata": {},
   "outputs": [
    {
     "data": {
      "text/plain": [
       "(355, 355, 3)"
      ]
     },
     "execution_count": 4,
     "metadata": {},
     "output_type": "execute_result"
    }
   ],
   "source": [
    "i1.shape"
   ]
  },
  {
   "cell_type": "code",
   "execution_count": 5,
   "id": "35856206",
   "metadata": {},
   "outputs": [],
   "source": [
    "# import the krish photo \n",
    "i2 = cv2.imread(\"pic2.jpeg\")"
   ]
  },
  {
   "cell_type": "code",
   "execution_count": 6,
   "id": "44d34cee",
   "metadata": {},
   "outputs": [
    {
     "data": {
      "text/plain": [
       "(416, 406, 3)"
      ]
     },
     "execution_count": 6,
     "metadata": {},
     "output_type": "execute_result"
    }
   ],
   "source": [
    "i2.shape"
   ]
  },
  {
   "cell_type": "code",
   "execution_count": 7,
   "id": "03d73bd0",
   "metadata": {},
   "outputs": [],
   "source": [
    "#to open photo\n",
    "cv2.imshow(\"pic1\",i1)\n",
    "cv2.imshow(\"pic2\",i2)\n",
    "cv2.waitKey()\n",
    "cv2.destroyAllWindows()"
   ]
  },
  {
   "cell_type": "code",
   "execution_count": 8,
   "id": "92dd1063",
   "metadata": {},
   "outputs": [],
   "source": [
    "#crop and  swap\n",
    "c_i1 = i1[100:300,150:300]\n",
    "i2[100:300,150:300] = c_i1\n",
    "cv2.imshow(\"swapping\",i2)\n",
    "cv2.waitKey()\n",
    "cv2.destroyAllWindows()"
   ]
  },
  {
   "cell_type": "code",
   "execution_count": 10,
   "id": "0c784f48",
   "metadata": {},
   "outputs": [],
   "source": [
    "#crop and  swap\n",
    "i2 = cv2.imread(\"pic2.jpeg\")\n",
    "c_i2 = i2[100:300,150:300]\n",
    "i1[100:300,150:300] = c_i2\n",
    "cv2.imshow(\"swapping\",i1)\n",
    "cv2.waitKey()\n",
    "cv2.destroyAllWindows()"
   ]
  },
  {
   "cell_type": "code",
   "execution_count": null,
   "id": "b6822ee1",
   "metadata": {},
   "outputs": [],
   "source": [
    "\n",
    "\n"
   ]
  },
  {
   "cell_type": "code",
   "execution_count": null,
   "id": "faec394a",
   "metadata": {},
   "outputs": [],
   "source": []
  }
 ],
 "metadata": {
  "kernelspec": {
   "display_name": "Python 3",
   "language": "python",
   "name": "python3"
  },
  "language_info": {
   "codemirror_mode": {
    "name": "ipython",
    "version": 3
   },
   "file_extension": ".py",
   "mimetype": "text/x-python",
   "name": "python",
   "nbconvert_exporter": "python",
   "pygments_lexer": "ipython3",
   "version": "3.8.8"
  }
 },
 "nbformat": 4,
 "nbformat_minor": 5
}
