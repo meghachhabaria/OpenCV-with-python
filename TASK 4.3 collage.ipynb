{
 "cells": [
  {
   "cell_type": "code",
   "execution_count": 1,
   "id": "26f21392",
   "metadata": {},
   "outputs": [],
   "source": [
    "import cv2\n",
    "import numpy as np"
   ]
  },
  {
   "cell_type": "code",
   "execution_count": 2,
   "id": "f042a06c",
   "metadata": {},
   "outputs": [],
   "source": [
    "i1 = cv2.imread(\"pic1.jpg\")"
   ]
  },
  {
   "cell_type": "code",
   "execution_count": 4,
   "id": "d7005508",
   "metadata": {},
   "outputs": [],
   "source": [
    "i2 = cv2.imread(\"pic2.jpeg\")"
   ]
  },
  {
   "cell_type": "code",
   "execution_count": 5,
   "id": "dadacdb6",
   "metadata": {},
   "outputs": [
    {
     "data": {
      "text/plain": [
       "(355, 355, 3)"
      ]
     },
     "execution_count": 5,
     "metadata": {},
     "output_type": "execute_result"
    }
   ],
   "source": [
    "i1.shape\n"
   ]
  },
  {
   "cell_type": "code",
   "execution_count": 6,
   "id": "7819f897",
   "metadata": {},
   "outputs": [
    {
     "data": {
      "text/plain": [
       "(416, 406, 3)"
      ]
     },
     "execution_count": 6,
     "metadata": {},
     "output_type": "execute_result"
    }
   ],
   "source": [
    "i2.shape\n"
   ]
  },
  {
   "cell_type": "code",
   "execution_count": 7,
   "id": "dd17ac74",
   "metadata": {},
   "outputs": [],
   "source": [
    "# We need to make same length to add HORIZONTALLY \n",
    "i2 = i2[0:355,:]"
   ]
  },
  {
   "cell_type": "code",
   "execution_count": 8,
   "id": "a07fb0e1",
   "metadata": {},
   "outputs": [
    {
     "data": {
      "text/plain": [
       "(355, 406, 3)"
      ]
     },
     "execution_count": 8,
     "metadata": {},
     "output_type": "execute_result"
    }
   ],
   "source": [
    "i2.shape\n"
   ]
  },
  {
   "cell_type": "code",
   "execution_count": 9,
   "id": "1eab83d9",
   "metadata": {},
   "outputs": [],
   "source": [
    "#for creating a college we will use a numpy function hstack it will append arrays horizontally\n",
    "# Now, we can append HORIZONTALLY \n",
    "collage_horizontal = np.hstack((i1,i2))"
   ]
  },
  {
   "cell_type": "code",
   "execution_count": 10,
   "id": "4d25ecae",
   "metadata": {},
   "outputs": [
    {
     "data": {
      "text/plain": [
       "(355, 761, 3)"
      ]
     },
     "execution_count": 10,
     "metadata": {},
     "output_type": "execute_result"
    }
   ],
   "source": [
    "collage_horizontal.shape"
   ]
  },
  {
   "cell_type": "code",
   "execution_count": 11,
   "id": "b30d6970",
   "metadata": {},
   "outputs": [],
   "source": [
    "# Printing image \n",
    "cv2.imshow(\"HORIZONTAL-COLLAGE\",collage_horizontal)\n",
    "cv2.waitKey()\n",
    "cv2.destroyAllWindows()"
   ]
  },
  {
   "cell_type": "code",
   "execution_count": 17,
   "id": "4639acc9",
   "metadata": {},
   "outputs": [],
   "source": [
    "# Now, appending VERTICALLY so width should be same. \n",
    "#i1 = cv2.imread(\"pic1.jpg\")\n",
    "#i2 = cv2.imread(\"pic2.jpeg\")\n",
    "i2 = i2[:,:355]"
   ]
  },
  {
   "cell_type": "code",
   "execution_count": 18,
   "id": "2eb5aa23",
   "metadata": {},
   "outputs": [],
   "source": [
    "collage_ver = np.vstack((i1,i2))"
   ]
  },
  {
   "cell_type": "code",
   "execution_count": 20,
   "id": "418cf2bb",
   "metadata": {},
   "outputs": [],
   "source": [
    "# Printing image \n",
    "cv2.imshow(\"VERTICAL-COLLAGE\",collage_ver)\n",
    "cv2.waitKey()\n",
    "cv2.destroyAllWindows()\n"
   ]
  },
  {
   "cell_type": "code",
   "execution_count": null,
   "id": "c20c9161",
   "metadata": {},
   "outputs": [],
   "source": []
  }
 ],
 "metadata": {
  "kernelspec": {
   "display_name": "Python 3",
   "language": "python",
   "name": "python3"
  },
  "language_info": {
   "codemirror_mode": {
    "name": "ipython",
    "version": 3
   },
   "file_extension": ".py",
   "mimetype": "text/x-python",
   "name": "python",
   "nbconvert_exporter": "python",
   "pygments_lexer": "ipython3",
   "version": "3.8.8"
  }
 },
 "nbformat": 4,
 "nbformat_minor": 5
}
